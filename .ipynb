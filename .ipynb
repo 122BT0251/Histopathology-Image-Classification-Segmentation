
!pip install kaggle --quiet
import os

# Kaggle API setup (assumes kaggle.json is uploaded manually in Colab > Files)
os.makedirs("/root/.kaggle", exist_ok=True)
if os.path.exists("kaggle.json"):
    !mv kaggle.json ~/.kaggle/
!chmod 600 ~/.kaggle/kaggle.json

# ---- Download Datasets ----
# PatchCamelyon (classification)
!kaggle datasets download -d raghavrpotdar/patchcamelyon -p /content/data
!unzip -q /content/data/patchcamelyon.zip -d /content/data/pcam

# MoNuSeg (segmentation)
!kaggle datasets download -d andrewmvd/monuseg -p /content/data
!unzip -q /content/data/monuseg.zip -d /content/data/monuseg

# ---- Imports ----
import numpy as np
import matplotlib.pyplot as plt
import tensorflow as tf
from tensorflow.keras import layers, models
from sklearn.model_selection import train_test_split
from tensorflow.keras.preprocessing.image import ImageDataGenerator
import cv2
import glob


# PART 1: Classification with CNN (PatchCamelyon)

print("Preparing PatchCamelyon dataset...")

data_dir = "/content/data/pcam/pcam"
X, y = [], []
for cls in ["normal", "tumor"]:
    files = glob.glob(os.path.join(data_dir, cls, "*.png"))
    for f in files:
        img = cv2.imread(f)
        img = cv2.resize(img, (96, 96))
        X.append(img)
        y.append(0 if cls=="normal" else 1)

X = np.array(X) / 255.0
y = np.array(y)

X_train, X_test, y_train, y_test = train_test_split(X, y, test_size=0.2, stratify=y)

# ---- Model ----
clf_model = models.Sequential([
    layers.Conv2D(32, (3,3), activation='relu', input_shape=(96,96,3)),
    layers.MaxPooling2D(2,2),
    layers.Conv2D(64, (3,3), activation='relu'),
    layers.MaxPooling2D(2,2),
    layers.Flatten(),
    layers.Dense(128, activation='relu'),
    layers.Dense(1, activation='sigmoid')
])

clf_model.compile(optimizer='adam', loss='binary_crossentropy', metrics=['accuracy'])
clf_model.fit(X_train, y_train, epochs=3, validation_split=0.2, batch_size=64)

# ---- Evaluation ----
loss, acc = clf_model.evaluate(X_test, y_test)
print(f"Classification Accuracy: {acc*100:.2f}%")


# PART 2: Segmentation with U-Net (MoNuSeg)

print("Preparing MoNuSeg dataset...")

img_paths = sorted(glob.glob("/content/data/monuseg/images/*.tif"))
mask_paths = sorted(glob.glob("/content/data/monuseg/masks/*.png"))

imgs, masks = [], []
for img_path, mask_path in zip(img_paths, mask_paths):
    img = cv2.imread(img_path)
    mask = cv2.imread(mask_path, 0)  # grayscale
    img = cv2.resize(img, (256,256))
    mask = cv2.resize(mask, (256,256))
    imgs.append(img/255.0)
    masks.append((mask>127).astype(np.float32))

X_seg = np.array(imgs)
y_seg = np.expand_dims(np.array(masks), -1)

X_train, X_test, y_train, y_test = train_test_split(X_seg, y_seg, test_size=0.2)

# ---- U-Net Model ----
def unet_model(input_shape=(256,256,3)):
    inputs = layers.Input(input_shape)

    c1 = layers.Conv2D(16, (3,3), activation='relu', padding='same')(inputs)
    c1 = layers.Conv2D(16, (3,3), activation='relu', padding='same')(c1)
    p1 = layers.MaxPooling2D((2,2))(c1)

    c2 = layers.Conv2D(32, (3,3), activation='relu', padding='same')(p1)
    c2 = layers.Conv2D(32, (3,3), activation='relu', padding='same')(c2)
    p2 = layers.MaxPooling2D((2,2))(c2)

    b1 = layers.Conv2D(64, (3,3), activation='relu', padding='same')(p2)
    b1 = layers.Conv2D(64, (3,3), activation='relu', padding='same')(b1)

    u1 = layers.UpSampling2D((2,2))(b1)
    u1 = layers.concatenate([u1, c2])
    c3 = layers.Conv2D(32, (3,3), activation='relu', padding='same')(u1)

    u2 = layers.UpSampling2D((2,2))(c3)
    u2 = layers.concatenate([u2, c1])
    c4 = layers.Conv2D(16, (3,3), activation='relu', padding='same')(u2)

    outputs = layers.Conv2D(1, (1,1), activation='sigmoid')(c4)

    return models.Model(inputs, outputs)

seg_model = unet_model()
seg_model.compile(optimizer='adam', loss='binary_crossentropy', metrics=['accuracy'])
seg_model.fit(X_train, y_train, epochs=3, validation_split=0.2, batch_size=4)

# ---- Evaluation ----
loss, acc = seg_model.evaluate(X_test, y_test)
print(f"Segmentation Accuracy: {acc*100:.2f}%")

# ---- Visualization ----
preds = seg_model.predict(X_test[:3])
for i in range(3):
    plt.figure(figsize=(10,3))
    plt.subplot(1,3,1); plt.imshow(X_test[i]); plt.title("Image")
    plt.subplot(1,3,2); plt.imshow(y_test[i].squeeze(), cmap='gray'); plt.title("Mask")
    plt.subplot(1,3,3); plt.imshow(preds[i].squeeze()>0.5, cmap='gray'); plt.title("Predicted")
    plt.show()
